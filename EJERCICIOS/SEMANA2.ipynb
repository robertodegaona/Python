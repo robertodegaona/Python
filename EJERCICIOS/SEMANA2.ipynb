{
  "nbformat": 4,
  "nbformat_minor": 0,
  "metadata": {
    "colab": {
      "name": "ejercicio_semana2.ipynb",
      "provenance": []
    },
    "kernelspec": {
      "name": "python3",
      "display_name": "Python 3"
    },
    "language_info": {
      "name": "python"
    }
  },
  "cells": [
    {
      "cell_type": "markdown",
      "source": [
        "# EJERCICIOS SEMANA 2\n",
        "Realizaremos los siguientes ejercicios para cerrar la semana dos de capacitación\n",
        "\n",
        "### EJERCICIO 1\n",
        "Realiza un programa que solicite 3 números por consola y los imprima ordenados de menor a mayor. Realizalo con condicionales y despúes por lista\n"
      ],
      "metadata": {
        "id": "LwzV4KmClxT4"
      }
    },
    {
      "cell_type": "code",
      "source": [
        "#CON CONCIONALES if\n",
        "#Inicia por declarar tus variables\n",
        "\n",
        "\n",
        "#Solicita por consola se agrueguen esos números.\n",
        "\n",
        "\n",
        "#Estructur las condicionales\n",
        "\n",
        "\n"
      ],
      "metadata": {
        "id": "_GXBn-mcmazR"
      },
      "execution_count": null,
      "outputs": []
    },
    {
      "cell_type": "markdown",
      "source": [
        "Ahora realizalo con lista"
      ],
      "metadata": {
        "id": "NuVAnSYhppOa"
      }
    },
    {
      "cell_type": "code",
      "source": [
        "#Genera la lista\n",
        "\n",
        "\n",
        "#Solicta los números por consola y crea un ciclo para que los pida 3 veces\n"
      ],
      "metadata": {
        "id": "PYZ7OOMjpuMI"
      },
      "execution_count": null,
      "outputs": []
    },
    {
      "cell_type": "markdown",
      "source": [
        "\n",
        "## EJERCICIO 1\n",
        "Realiza un programa que solicite por consola 10 números al usuario y muestre al final la suma de esos 10 números, además que copie la lista en otra lista y ordene de forma descendente la segunda lista y la muestre\n",
        "\n",
        "range() se considera en Python 3 un tipo de dato, aunque se utiliza como función"
      ],
      "metadata": {
        "id": "O6a6HQsVxhLj"
      }
    },
    {
      "cell_type": "code",
      "source": [
        "for num in range(0,10):\n",
        "  print(num)"
      ],
      "metadata": {
        "id": "qqDc17TuE1vT"
      },
      "execution_count": null,
      "outputs": []
    },
    {
      "cell_type": "code",
      "source": [
        "# Creamos las variables a utilizar\n",
        "lista = []\n",
        "lista2 = []\n",
        "res = 0  #esta variable almacenará el resultado de la suma de cada dato ingresado\n",
        "\n",
        "for num in range(1,11): # la variable num recorrerá un rango de 1 a 10\n",
        "  num = int(input('ingresa un número')) #pedimos el número y lo convertimos a entero\n",
        "  lista.append(num) #agrega el número ingresado a la lista\n",
        "  res=res+num # va sumando los números ingresados, al estar en el ciclo, por la sangria, sumará cada dato ingresado\n",
        "print(f'el resultado es {res}')\n",
        "lista2=lista[::-1] #copia la lista en la otra lista y los ordena de forma descendente\n",
        "print(lista2)\n"
      ],
      "metadata": {
        "id": "O1YDZufUx-B4"
      },
      "execution_count": null,
      "outputs": []
    },
    {
      "cell_type": "markdown",
      "source": [
        "### Otra forma de resolverlo"
      ],
      "metadata": {
        "id": "3W0gzVWyJyPZ"
      }
    },
    {
      "cell_type": "code",
      "source": [
        "lista = []\n",
        "res = 0\n",
        "cont = 0 # esta variable será nuestro contador\n",
        "num = 0\n",
        "\n",
        "while cont < 10: #esto hará que solo se pidan 10 datos\n",
        "  cont = cont + 1 # aumentamos el valor del contador para que pueda salir del ciclo\n",
        "  num = int(input('ingresa un número'))\n",
        "  lista.append(num)\n",
        "  res=res+num\n",
        "print(f'el resultado es {res}')"
      ],
      "metadata": {
        "id": "hYlL6dP1IgUv"
      },
      "execution_count": null,
      "outputs": []
    },
    {
      "cell_type": "markdown",
      "source": [
        "Agrega las líneas de código necesarias para detectar cuando se ingrese un número ya ingresado y lo informe al usuario."
      ],
      "metadata": {
        "id": "PH1oh1ZSfwvT"
      }
    },
    {
      "cell_type": "markdown",
      "source": [
        "\n",
        "## EJERCICIO 2\n",
        "Vamos a crear un programa que nos imprima el total de abonos que realiza un cliente, por ahora no necesitamos saber el total del préstamo, solo necesitamos preguntar el número de clientes de los que se capturaran sus abonos, sus nombres y el monto del abono, el ciclo se rompe al ingresar 0 en la cantidad del abobo. Al final nos debe imprimir el nombre de los clientes capturados y el total del monto abonado."
      ],
      "metadata": {
        "id": "XCnxXas-ujAR"
      }
    },
    {
      "cell_type": "code",
      "source": [
        "clientes = {} # este sera el diccionario \n",
        "cliente = ''  # el cliente individual\n",
        "abonos=[] # la lista para almacenar los abonos\n",
        "abono = 0 # los abonos individuales\n",
        "cantidad_clientes = 0 \n",
        "\n",
        "cantidad_clientes = int(input(\"Introduce la cantidad de clientes que se van a consultar:\"))\n",
        "for num in range(cantidad_clientes): #la variable num va a recorrer el rango que se haya ingresado en la cantidad de clientes y ejeurara el código dentro\n",
        "  cliente = input(\"Ingresa el nombre del cliente:\")# pedimos el nombre para entrar a la validación de while\n",
        "  while cliente in clientes:  #si encuentra el cliente en el diccionario se ejecuta el menaje\n",
        "    print(\"Ese cliente ya existe\")\n",
        "    cliente = input(\"Ingresa el nombre del cliente:\") #volvemos a solicitar el nombre, si no hacemos esto la variable no cambia de valor y se ejecuta en infinito\n",
        "  abono = int(input(\"Ingresa la cantidad abonada (cero para terminar):\"))# una vez que valido el cliente vamos a solicitar el abono\n",
        "  while abono > 0: # mientras sea mayor a 0 va ejecutar el código, cuando se ingrese un negativo o el 0 se rompera el ciclo\n",
        "    abonos.append(abono) #agrega el monto del abono a la lista \n",
        "    abono = int(input(\"Ingresa la cantidad abonada (cero para terminar):\"))# los mismo que más arriba, si no se moifica el valor de la variable se ejecuta infinito\n",
        "    clientes[cliente] = abonos.copy() # manda el dato del abono al diccionario\n",
        "for cliente, abonos in clientes.items(): #recorre el diccionario, los items son los valores de cada posición en el diccionario o lista\n",
        "  print(\"%s ha abonado: %f\" % (cliente,sum(abonos))) #imprime el cliente y con la función sum suma los valores de abonos"
      ],
      "metadata": {
        "id": "adOum5yhL8v1"
      },
      "execution_count": null,
      "outputs": []
    },
    {
      "cell_type": "markdown",
      "source": [
        "Para complementar el programa crea el código para imprimir no solo la suma de lo abonado, también el promedio de los abonos, el abono mas alto y el más bajo, además de considerar que a todos los clientes se les presto la misma cantidad de 200,000 pesos, al final agrega una línea de código para imprimir cuánto le falta pagar a cada cliente para saldar su deuda, considera que no puede abonar el cliente más de la cantidad que adeuda."
      ],
      "metadata": {
        "id": "ts6nPa1QW6K1"
      }
    }
  ]
}