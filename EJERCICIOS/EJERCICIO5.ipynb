{
  "cells": [
    {
      "cell_type": "markdown",
      "metadata": {
        "id": "BzSq5QgCjjLf"
      },
      "source": [
        "# Ejercicio 1: Creación de un bucle \"while\""
      ]
    },
    {
      "cell_type": "markdown",
      "metadata": {
        "id": "Ohqv7k0djjLo"
      },
      "source": [
        "### Ejercicio 1: Uso de ciclos `while` en Python\n",
        "\n",
        "En Python, los ciclos `while` te permiten ejecutar código un número desconocido de veces. Los ciclos examinan una condición booleana y, siempre que la condición sea verdadera, se ejecutará el código dentro del ciclo. Esto es muy útil para situaciones como solicitar valores a un usuario.\n",
        "\n",
        "En este ejercicio, estás creando una aplicación que solicita a un usuario que ingrese una lista de alumnos. En un ejercicio posterior, agregarás código que muestre la lista. Por ahora, crearás solo el código que solicita al usuario la lista de alumnos.\n",
        "\n",
        "> **TIP**\n",
        "> Dedica unos minutos para tratar de encontrar una solución. Luego desplázate hacia abajo hasta la parte inferior para ver si has logrado compilar el programa de acuerdo con las especificaciones\n",
        "\n",
        "Comienza agregando dos variables, una para la entrada del usuario, con el nombre `nuevo_alumno`, y otra variable para la lista de planetas, denominada `alumnos`."
      ]
    },
    {
      "cell_type": "code",
      "execution_count": 8,
      "metadata": {
        "id": "yVzwHk2_jjLr"
      },
      "outputs": [],
      "source": [
        "# Declara dos variables\n",
        "nuevo_alumno = ''\n",
        "alumnos = []"
      ]
      nuevo_alumno = ''
alumnos = []

while nuevo_alumno.lower() != 'fin':
    if nuevo_alumno:
      alumnos.append(nuevo_alumno)
    nuevo_alumno= input('ingresa el nombre de el alumno o escribe fin para terminar')
    while nuevo_alumno in alumnos:
      print('alumno ya en lista')
      break
print(alumnos)
    },
    {
      "cell_type": "markdown",
      "metadata": {
        "id": "KWZ1V-fFjjLu"
      },
      "source": [
        "### Crea un ciclo `while`\n",
        "\n",
        "Comenzando con las variables que acabas de crear, crearás un ciclo `while`. El ciclo `while` se ejecutará *mientras* el `nuevo_alumno` **no** sea igual a la palabra 'alto'.\n",
        "\n",
        "Dentro del ciclo, comprobarás si la variable `nuevo_alumno` contiene un valor, que debería ser el nombre de un alumno. Esta es una forma rápida de ver si el usuario ha introducido un valor. Si lo han hecho, tu código agregará (`append`) ese valor a la variable `alumnos`.\n",
        "\n",
        "Finalmente, usarás `input` para solicitar al usuario que ingrese un nuevo nombre de alumno o que escriba *alto* si ha terminado de ingresar nombres de alumnos. Almacenará el valor de `input` en la variable `nuevo_alumno`."
      ]
    },
    {
      "cell_type": "code",
      "execution_count": null,
      "metadata": {
        "id": "ffvfy4sWjjLv"
      },
      "outputs": [],
      "source": [
        "# Escribe el ciclo while solicitado\n"
      ]
    },
    {
      "cell_type": "markdown",
      "metadata": {
        "id": "chl1p5aCjjLv"
      },
      "source": [
        "> Recuerda: Lo importante es intentarlo, !"
      ]
    },
    {
      "cell_type": "markdown",
      "metadata": {
        "id": "qApzJljZjjLw"
      },
      "source": [
        "## Ejercicio 2: Creación de un ciclo \"for\""
      ]
    },
    {
      "cell_type": "markdown",
      "metadata": {
        "id": "MOKaZ00EjjL2"
      },
      "source": [
        "### Ejercicio: - Ciclo para una lista\n",
        "\n",
        "En el ejercicio anterior, creaste código para solicitar a los usuarios que introduzcan una lista de nombres de alumnos. En este ejercicio, completarás la aplicación escribiendo código que muestre los nombres de esos alumnos.\n",
        "\n",
        "### Mostrar la lista de los planetas\n",
        "\n",
        "La variable `alumnos` almacena los nombres de alumnos que ha introducido un usuario. Ahora usarás un ciclo para mostrar esas entradas.\n",
        "\n",
        "Crea un ciclo `for` para iterar sobre la lista `alumnos`. Puedes usar como nombre de la variable `alumno` para cada aluno. Dentro del ciclo `for`, recuerda utilizar `print` para mostrar cada `alumno`."
      ]
    },
    {
      "cell_type": "code",
      "execution_count": null,
      "metadata": {
        "id": "boWA26BdjjL4"
      },
      "outputs": [],
      "source": [
        "# Escribe tu ciclo for para iterar en una lista de planetas\n"
      ]
    },
    {
      "cell_type": "markdown",
      "source": [
        "## Ejercicio 3: Juego adivina el número\n",
        "\n",
        "Vamor a realizar el juego de adivinar el número secreto que realizamos en el módulo de pensamiento computacional, para ello necesitaremos el número que se genera de forma aleatoria, necesitaremos traer la función random"
      ],
      "metadata": {
        "id": "fcuY_jxNpLRy"
      }
    },
    {
      "cell_type": "code",
      "source": [
        "print('''-------------------------------------------\n",
        "-------ADIVINA EL NÚMERO SECRETO-------------\n",
        "---------TIENES 5 OPORTUNIDADES--------------\n",
        "---------------------------------------------''')\n",
        "# Vamos a iniciar generando el numero secreto, para ello importamos random\n",
        "import random\n",
        "# Ahora vamos a generar ese número secreto\n",
        "numero_secreto = random.randint(1,100)\n",
        "\n",
        "#Ahora crea las variables donde se almacenará e número que ingrese el usuario y otra con el número de oportunidades que tendrá de adivinar\n",
        "\n",
        "\n",
        "# Vamos a crear el ciclo que se ejecute mientras no se adivie el número y aun queden oportunidades de seguir jugando\n",
        "# Recuerda crear una cndición que evalue e informe al usuario si el número ingresado es mayor o menor al número secreto\n",
        "\n",
        "\n",
        "\n",
        "# Cuando el usuario le atine o se acaben sus oportunidades entrará a otra condicionante\n",
        "\n",
        "\n"
      ],
      "metadata": {
        "id": "sIhm3SSKpme1"
      },
      "execution_count": null,
      "outputs": []
    },
    {
      "cell_type": "markdown",
      "metadata": {
        "id": "XLjdFopxjjL5"
      },
      "source": [
        "## Soluciones"
      ]
    },
    {
      "cell_type": "markdown",
      "metadata": {
        "id": "AN5XHpESjjL6"
      },
      "source": [
        "### Ejercicio 1"
      ]
    },
    {
      "cell_type": "code",
      "execution_count": null,
      "metadata": {
        "id": "rikT1rCrjjL7"
      },
      "outputs": [],
      "source": [
        "# Declaramos 2 variables\n",
        "\n",
        "nuevo_alumno = ''\n",
        "alumnos = []"
      ]
    },
    {
      "cell_type": "code",
      "execution_count": null,
      "metadata": {
        "id": "vNG6Smf6jjL8"
      },
      "outputs": [],
      "source": [
        "# Escribe el ciclo while solicitado\n",
        "\n",
        "while nuevo_alumno.lower() != 'alto':\n",
        "    if nuevo_alumno:\n",
        "        alumnos.append(nuevo_alumno)\n",
        "    nuevo_alumno = input('Ingresa el nombre del nuevo alumno ')\n",
        "\n",
        "# Otra opcion\n",
        "nuevo_alumno = input('Ingresa el nombre del nuevo alumno ')\n",
        "while nuevo_alumno.lower() != 'alto':\n",
        "  alumnos.append(nuevo_alumno)\n",
        "  nuevo_alumno = input('Ingresa el nombre del nuevo alumno ')"
      ]
    },
    {
      "cell_type": "markdown",
      "metadata": {
        "id": "L845QAQnjjL8"
      },
      "source": [
        "### Ejercicio 2"
      ]
    },
    {
      "cell_type": "code",
      "execution_count": null,
      "metadata": {
        "id": "99EV5EbtjjL9"
      },
      "outputs": [],
      "source": [
        "# Escribe tu ciclo for para iterar en una lista de planetas\n",
        "\n",
        "for alumno in alumnos:\n",
        "    print(alumno)"
      ]
    }
  ],
  "metadata": {
    "interpreter": {
      "hash": "916dbcbb3f70747c44a77c7bcd40155683ae19c65e1c03b4aa3499c5328201f1"
    },
    "kernelspec": {
      "display_name": "Python 3.8.10 64-bit",
      "language": "python",
      "name": "python3"
    },
    "language_info": {
      "codemirror_mode": {
        "name": "ipython",
        "version": 3
      },
      "file_extension": ".py",
      "mimetype": "text/x-python",
      "name": "python",
      "nbconvert_exporter": "python",
      "pygments_lexer": "ipython3",
      "version": "3.8.10"
    },
    "nteract": {
      "version": "nteract-front-end@1.0.0"
    },
    "orig_nbformat": 4,
    "colab": {
      "name": "Módulo7Katas.ipynb",
      "provenance": []
    }
  },
  "nbformat": 4,
  "nbformat_minor": 0
}
