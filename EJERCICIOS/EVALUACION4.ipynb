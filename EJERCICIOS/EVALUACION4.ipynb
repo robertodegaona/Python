{
  "nbformat": 4,
  "nbformat_minor": 0,
  "metadata": {
    "colab": {
      "name": "Untitled0.ipynb",
      "provenance": []
    },
    "kernelspec": {
      "name": "python3",
      "display_name": "Python 3"
    },
    "language_info": {
      "name": "python"
    }
  },
  "cells": [
    {
      "cell_type": "markdown",
      "source": [
        "Realizar un programa que inicialice una lista con 10 valores aleatorios (del 1 al 10)\n",
        "y posteriormente muestre en pantalla cada elemento de la lista junto con su\n",
        "cuadrado y su cubo.\n",
        "Respuesta:"
      ],
      "metadata": {
        "id": "RAjO8EEBj_iA"
      }
    },
    {
      "cell_type": "code",
      "execution_count": null,
      "metadata": {
        "id": "YvGs_32djyVT"
      },
      "outputs": [],
      "source": [
        "import random # para poder generar los números aleatorios\n",
        "lista_numeros = [] # la lista donde se guardarán\n",
        "# Primer recorrido para leer la lista\n",
        "for indice in range(1,11):\n",
        "  lista_numeros.append(random.randint(1,10))\n",
        "## Segundo recorrido para mostrar el resultado\n",
        "for numero in lista_numeros:\n",
        "  print(numero,\" \",numero ** 2,\" \",numero ** 3) "
      ]
    },
    {
      "cell_type": "markdown",
      "source": [
        "Crea una lista e inicializarla con 5 cadenas de caracteres leídas por teclado. Copia\n",
        "los elementos de la lista en otra lista pero en orden inverso, y muestra sus\n",
        "elementos por la pantalla.\n",
        "Respuesta:"
      ],
      "metadata": {
        "id": "dzB_AvoOkxAu"
      }
    },
    {
      "cell_type": "code",
      "source": [
        "lista1 = [] #la primera lista\n",
        "lista2 = []  #la segunda lista\n",
        "# Recorro la lista1 y leo cada elemento por teclado.\n",
        "for indice in range(1,6):\n",
        "  lista1.append(input(\"Dame la cadena %d:\" % indice))\n",
        "# Copio la lista1 en la lista2 en orden inverso\n",
        "  lista2 = lista1[::-1]\n",
        "# Recorro el vector2 para mostrarlo\n",
        "for cadena in lista2:\n",
        "  print(cadena)"
      ],
      "metadata": {
        "id": "LAUdlEL-k0Lq"
      },
      "execution_count": null,
      "outputs": []
    },
    {
      "cell_type": "markdown",
      "source": [
        "Se quiere realizar un programa que lea por teclado las 5 notas obtenidas por un\n",
        "alumno (comprendidas entre 0 y 10). A continuación debe mostrar todas las notas,\n",
        "la nota media, la nota más alta que ha sacado y la menor."
      ],
      "metadata": {
        "id": "wwvWc5dHleWj"
      }
    },
    {
      "cell_type": "code",
      "source": [
        "\n",
        "notas = []\n",
        "cont=1\n",
        "while cont<6:\n",
        "    nota = int(input(\"Introduce la nota %i:\" % cont))\n",
        "    if nota>=0 and nota<=10:\n",
        "      cont=cont+1\n",
        "      notas.append(nota)\n",
        "    else:\n",
        "      print('formato icorrecto, ingresa de nuevo la calificación')\n",
        "      # Muestro resultados\n",
        "print('Notas: ')\n",
        "print('-----------------------------------')\n",
        "print(\"Nota media: \",sum(notas)/len(notas))\n",
        "print(\"Nota max: \",max(notas))\n",
        "print(\"Nota min: \",min(notas))"
      ],
      "metadata": {
        "id": "BAeW_8x9lk6u"
      },
      "execution_count": null,
      "outputs": []
    },
    {
      "cell_type": "markdown",
      "source": [
        "Codifica un programa en python que nos permita guardar los nombres de los\n",
        "alumnos de una clase y las notas que han obtenido. Cada alumno puede tener\n",
        "distinta cantidad de notas. Guarda la información en un diccionario cuya claves\n",
        "serán los nombres de los alumnos y los valores serán listados con las notas de\n",
        "cada alumno.\n",
        "\n",
        "El programa pedirá el número de alumnos que vamos a introducir, pedirá su\n",
        "nombre e irá pidiendo sus notas hasta que introduzcamos un número negativo. Al\n",
        "final el programa nos mostrará la lista de alumnos y la nota media obtenida por\n",
        "cada uno de ellos. Nota: si se introduce el nombre de un alumno que ya existe el\n",
        "programa nos dará un error."
      ],
      "metadata": {
        "id": "vzmcge2PpCH5"
      }
    },
    {
      "cell_type": "code",
      "source": [
        "alumnos = {}\n",
        "notas=[]\n",
        "cantidad = int(input(\"Introduce la cantidad de alumnos que vamos a guardar:\"))\n",
        "for num in range(cantidad):\n",
        "    alumno = input(\"Nombre del alumno:\")\n",
        "    while alumno in alumnos:\n",
        "      print(\"Alumno ya existe.\")\n",
        "      alumno = input(\"Nombre del alumno:\")\n",
        "    nota = int(input(\"Dame una nota del alumno (negativo para terminar):\"))\n",
        "    while nota > 0:\n",
        "      notas.append(nota)\n",
        "      nota = int(input(\"Dame una nota del alumno (negativo para terminar):\"))\n",
        "      alumnos[alumno] = notas.copy()\n",
        "    for alumno, notas in alumnos.items():\n",
        "      print(\"%s ha sacado de nota media %f\" % (alumno,sum(notas)/len(notas)))"
      ],
      "metadata": {
        "id": "sHGwcyfNpVeO"
      },
      "execution_count": null,
      "outputs": []
    },
    {
      "cell_type": "markdown",
      "source": [
        "Crea una tupla con los meses del año, pide números al usuario, si el número está\n",
        "entre 1 y la longitud máxima de la tupla, muestra el contenido de esa posición sino\n",
        "muestra un mensaje de error. El programa termina cuando el usuario introduce un\n",
        "cero."
      ],
      "metadata": {
        "id": "nJXZCE6aqxvM"
      }
    },
    {
      "cell_type": "code",
      "source": [
        "meses = (\"Enero\", \"Febrero\", \"Marzo\", \"Abril\", \"Mayo\", \"Junio\", \"Julio\", \"Agosto\", \"Septiembre\", \"Octubre\",\n",
        "\"Noviembre\", \"Diciembre\")\n",
        "numero = int(input(\"Dame un numero: \"))\n",
        "while (numero!=0):\n",
        "  if(numero>=1 and numero<=len(meses)):\n",
        "    print(meses[numero-1])\n",
        "    numero = int(input(\"Dame un numero: \"))\n",
        "  else:\n",
        "    print(\"Inserta un número entre 1 y \",len(meses))\n",
        "    numero = int(input(\"Dame un numero: \"))\n",
        "else:\n",
        "  print('adios')"
      ],
      "metadata": {
        "id": "rEN3PQh9q2Zh"
      },
      "execution_count": null,
      "outputs": []
    }
  ]
}